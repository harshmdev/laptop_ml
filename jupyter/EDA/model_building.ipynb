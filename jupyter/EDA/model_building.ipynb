{
 "cells": [
  {
   "cell_type": "code",
   "execution_count": 2,
   "id": "3fc58fe1",
   "metadata": {},
   "outputs": [
    {
     "name": "stderr",
     "output_type": "stream",
     "text": [
      "C:\\Users\\harsh\\anaconda3\\Lib\\site-packages\\pandas\\core\\arrays\\masked.py:60: UserWarning: Pandas requires version '1.3.6' or newer of 'bottleneck' (version '1.3.5' currently installed).\n",
      "  from pandas.core import (\n"
     ]
    }
   ],
   "source": [
    "import numpy as np\n",
    "import pandas as pd\n",
    "import matplotlib.pyplot as plt\n",
    "\n",
    "from sklearn.model_selection import KFold, cross_val_score\n",
    "from sklearn.linear_model import LinearRegression\n",
    "from sklearn.pipeline import Pipeline\n",
    "from sklearn.preprocessing import OneHotEncoder, StandardScaler, OrdinalEncoder\n",
    "from sklearn.compose import ColumnTransformer\n",
    "from sklearn.svm import SVR\n",
    "from sklearn.linear_model import Ridge\n",
    "from sklearn.linear_model import Lasso\n",
    "from sklearn.tree import DecisionTreeRegressor\n",
    "from sklearn.ensemble import RandomForestRegressor, ExtraTreesRegressor, GradientBoostingRegressor, AdaBoostRegressor\n",
    "from sklearn.neural_network import MLPRegressor\n",
    "from xgboost import XGBRegressor\n",
    "\n",
    "\n",
    "from sklearn.model_selection import train_test_split\n",
    "from sklearn.metrics import mean_absolute_error, r2_score\n",
    "from sklearn.decomposition import PCA\n",
    "\n",
    "import joblib , hyperopt"
   ]
  },
  {
   "cell_type": "code",
   "execution_count": 3,
   "id": "a7f573c0",
   "metadata": {},
   "outputs": [],
   "source": [
    "df1=pd.read_csv(\"missing_value_imputation.csv\")\n",
    "df=df1.copy()"
   ]
  },
  {
   "cell_type": "code",
   "execution_count": 4,
   "id": "ccdda8a1",
   "metadata": {},
   "outputs": [],
   "source": [
    "df.drop(columns=[\"hdd\",\"thickness_num\",\"weight_num\",\"weight\", 'usb2', 'ppi_type',\"everyday_use\",\"performance\",\"vga\",\"multi_card_reader\",\"quality_type\",\"antiglare\",\"fingerprint_sensor\",\"ethernet\",\"hdmi\",\"display_port\",\"usb3\"],inplace=True)"
   ]
  },
  {
   "cell_type": "code",
   "execution_count": 7,
   "id": "f75b3b15",
   "metadata": {},
   "outputs": [
    {
     "data": {
      "text/plain": [
       "Index(['brand', 'price', 'thickness', 'screen_size', 'ppi', 'threads', 'ram',\n",
       "       'touch_screen', 'cores', 'battery_capacity', 'battery_cell',\n",
       "       'thunderbolt', 'backlit', 'typec', 'processor_gen', 'processor_brand',\n",
       "       'processor_model', 'graphics_brand', 'graphics_capacity',\n",
       "       'graphics_model', 'business', 'gaming', 'ssd', 'popularity'],\n",
       "      dtype='object')"
      ]
     },
     "execution_count": 7,
     "metadata": {},
     "output_type": "execute_result"
    }
   ],
   "source": [
    "df.columns"
   ]
  },
  {
   "cell_type": "code",
   "execution_count": 51,
   "id": "479c4386",
   "metadata": {},
   "outputs": [],
   "source": [
    "X=df.drop(\"price\",axis=1)\n",
    "y=df[\"price\"]\n",
    "y_transformed=np.log1p(y)"
   ]
  },
  {
   "cell_type": "code",
   "execution_count": 52,
   "id": "85b9124a",
   "metadata": {},
   "outputs": [],
   "source": [
    "ohe_columns=[\"brand\",\"graphics_brand\",\"processor_brand\",\"touch_screen\",\"backlit\",\"business\",\"gaming\"]\n",
    "oe_columns=[\"thickness\",\"typec\",\"screen_size\",\"processor_gen\",\"processor_model\",\"popularity\",\"graphics_model\"]\n",
    "std=[\"ppi\",\"battery_capacity\",\"ssd\",\"threads\",\"ram\",\"cores\",\"graphics_capacity\",\"battery_cell\"]"
   ]
  },
  {
   "cell_type": "code",
   "execution_count": 53,
   "id": "87c84b28",
   "metadata": {},
   "outputs": [],
   "source": [
    "all_columns=ohe_columns+oe_columns"
   ]
  },
  {
   "cell_type": "code",
   "execution_count": 54,
   "id": "a56f7a0b",
   "metadata": {},
   "outputs": [],
   "source": [
    "# Creating a column transformer for preprocessing\n",
    "preprocessor = ColumnTransformer(\n",
    "    transformers=[\n",
    "        ('num', StandardScaler(), std),\n",
    "        ('cat', OrdinalEncoder(), oe_columns),\n",
    "        ('cat1',OneHotEncoder(drop=\"first\",sparse_output=False),ohe_columns)\n",
    "    ], \n",
    "    remainder='passthrough'\n",
    ")"
   ]
  },
  {
   "cell_type": "code",
   "execution_count": 55,
   "id": "a0e160c4",
   "metadata": {},
   "outputs": [],
   "source": [
    "transformed_data=preprocessor.fit_transform(X)"
   ]
  },
  {
   "cell_type": "code",
   "execution_count": 56,
   "id": "e2f7c7db",
   "metadata": {},
   "outputs": [],
   "source": [
    "transformed_df = pd.DataFrame(transformed_data, columns=preprocessor.get_feature_names_out())"
   ]
  },
  {
   "cell_type": "code",
   "execution_count": 57,
   "id": "06a0e1ae",
   "metadata": {},
   "outputs": [
    {
     "data": {
      "text/plain": [
       "(798, 53)"
      ]
     },
     "execution_count": 57,
     "metadata": {},
     "output_type": "execute_result"
    }
   ],
   "source": [
    "transformed_df.shape"
   ]
  },
  {
   "cell_type": "code",
   "execution_count": 58,
   "id": "baaf5632",
   "metadata": {},
   "outputs": [],
   "source": [
    "X_train, X_test, y_train, y_test = train_test_split(transformed_df,y_transformed,test_size=0.2,random_state=42)"
   ]
  },
  {
   "cell_type": "code",
   "execution_count": 59,
   "id": "d83d4daf",
   "metadata": {},
   "outputs": [],
   "source": [
    "model_dict = {\n",
    "    'linear_reg':LinearRegression(),\n",
    "    'svr':SVR(),\n",
    "    'ridge':Ridge(),\n",
    "    'LASSO':Lasso(),\n",
    "    'decision tree': DecisionTreeRegressor(),\n",
    "    'random forest':RandomForestRegressor(),\n",
    "    'extra trees': ExtraTreesRegressor(),\n",
    "    'gradient boosting': GradientBoostingRegressor(),\n",
    "    'adaboost': AdaBoostRegressor(),\n",
    "    'xgboost':XGBRegressor()\n",
    "}\n"
   ]
  },
  {
   "cell_type": "code",
   "execution_count": 60,
   "id": "33d9688e",
   "metadata": {},
   "outputs": [],
   "source": [
    "def scorer(model_name, model):\n",
    "    \n",
    "    output = []\n",
    "    \n",
    "    output.append(model_name)\n",
    "    \n",
    "    # K-fold cross-validation\n",
    "    kfold = KFold(n_splits=10, shuffle=True, random_state=43)\n",
    "    scores = cross_val_score(model, transformed_df, y_transformed, cv=5, scoring='r2')\n",
    "    \n",
    "    output.append(scores.mean())\n",
    "    \n",
    "    model.fit(X_train,y_train)\n",
    "    \n",
    "    y_pred = model.predict(X_test)\n",
    "    \n",
    "    y_pred = np.expm1(y_pred)\n",
    "    \n",
    "    output.append(mean_absolute_error(np.expm1(y_test),y_pred))\n",
    "    \n",
    "    return output\n",
    "    "
   ]
  },
  {
   "cell_type": "code",
   "execution_count": 61,
   "id": "cafe1b6f",
   "metadata": {},
   "outputs": [],
   "source": [
    "model_output = []\n",
    "for model_name,model in model_dict.items():\n",
    "    model_output.append(scorer(model_name, model))"
   ]
  },
  {
   "cell_type": "code",
   "execution_count": 62,
   "id": "5230a4d2",
   "metadata": {},
   "outputs": [
    {
     "data": {
      "text/html": [
       "<div>\n",
       "<style scoped>\n",
       "    .dataframe tbody tr th:only-of-type {\n",
       "        vertical-align: middle;\n",
       "    }\n",
       "\n",
       "    .dataframe tbody tr th {\n",
       "        vertical-align: top;\n",
       "    }\n",
       "\n",
       "    .dataframe thead th {\n",
       "        text-align: right;\n",
       "    }\n",
       "</style>\n",
       "<table border=\"1\" class=\"dataframe\">\n",
       "  <thead>\n",
       "    <tr style=\"text-align: right;\">\n",
       "      <th></th>\n",
       "      <th>name</th>\n",
       "      <th>r2</th>\n",
       "      <th>mae</th>\n",
       "    </tr>\n",
       "  </thead>\n",
       "  <tbody>\n",
       "    <tr>\n",
       "      <th>6</th>\n",
       "      <td>extra trees</td>\n",
       "      <td>0.892254</td>\n",
       "      <td>9781.139630</td>\n",
       "    </tr>\n",
       "    <tr>\n",
       "      <th>0</th>\n",
       "      <td>linear_reg</td>\n",
       "      <td>0.886382</td>\n",
       "      <td>10440.301861</td>\n",
       "    </tr>\n",
       "    <tr>\n",
       "      <th>7</th>\n",
       "      <td>gradient boosting</td>\n",
       "      <td>0.899856</td>\n",
       "      <td>10743.634546</td>\n",
       "    </tr>\n",
       "    <tr>\n",
       "      <th>5</th>\n",
       "      <td>random forest</td>\n",
       "      <td>0.887682</td>\n",
       "      <td>10885.125840</td>\n",
       "    </tr>\n",
       "    <tr>\n",
       "      <th>2</th>\n",
       "      <td>ridge</td>\n",
       "      <td>0.888134</td>\n",
       "      <td>10927.682681</td>\n",
       "    </tr>\n",
       "    <tr>\n",
       "      <th>9</th>\n",
       "      <td>xgboost</td>\n",
       "      <td>0.900602</td>\n",
       "      <td>11660.098535</td>\n",
       "    </tr>\n",
       "    <tr>\n",
       "      <th>1</th>\n",
       "      <td>svr</td>\n",
       "      <td>0.868812</td>\n",
       "      <td>11843.203826</td>\n",
       "    </tr>\n",
       "    <tr>\n",
       "      <th>8</th>\n",
       "      <td>adaboost</td>\n",
       "      <td>0.820230</td>\n",
       "      <td>14011.566134</td>\n",
       "    </tr>\n",
       "    <tr>\n",
       "      <th>4</th>\n",
       "      <td>decision tree</td>\n",
       "      <td>0.786335</td>\n",
       "      <td>15434.227196</td>\n",
       "    </tr>\n",
       "    <tr>\n",
       "      <th>3</th>\n",
       "      <td>LASSO</td>\n",
       "      <td>0.221690</td>\n",
       "      <td>26834.824390</td>\n",
       "    </tr>\n",
       "  </tbody>\n",
       "</table>\n",
       "</div>"
      ],
      "text/plain": [
       "                name        r2           mae\n",
       "6        extra trees  0.892254   9781.139630\n",
       "0         linear_reg  0.886382  10440.301861\n",
       "7  gradient boosting  0.899856  10743.634546\n",
       "5      random forest  0.887682  10885.125840\n",
       "2              ridge  0.888134  10927.682681\n",
       "9            xgboost  0.900602  11660.098535\n",
       "1                svr  0.868812  11843.203826\n",
       "8           adaboost  0.820230  14011.566134\n",
       "4      decision tree  0.786335  15434.227196\n",
       "3              LASSO  0.221690  26834.824390"
      ]
     },
     "execution_count": 62,
     "metadata": {},
     "output_type": "execute_result"
    }
   ],
   "source": [
    "model_df = pd.DataFrame(model_output, columns=['name','r2','mae'])\n",
    "model_df.sort_values(['mae'])"
   ]
  },
  {
   "cell_type": "code",
   "execution_count": 17,
   "id": "65c4ab46",
   "metadata": {
    "collapsed": true
   },
   "outputs": [
    {
     "name": "stdout",
     "output_type": "stream",
     "text": [
      "Requirement already satisfied: xgboost in c:\\users\\harsh\\appdata\\roaming\\python\\python312\\site-packages (2.0.3)\n",
      "Requirement already satisfied: hyperopt in c:\\users\\harsh\\appdata\\roaming\\python\\python312\\site-packages (0.2.7)\n",
      "Requirement already satisfied: numpy in c:\\python312\\lib\\site-packages (from xgboost) (1.26.4)\n",
      "Requirement already satisfied: scipy in c:\\users\\harsh\\appdata\\roaming\\python\\python312\\site-packages (from xgboost) (1.13.0)\n",
      "Requirement already satisfied: six in c:\\python312\\lib\\site-packages (from hyperopt) (1.16.0)\n",
      "Requirement already satisfied: networkx>=2.2 in c:\\users\\harsh\\appdata\\roaming\\python\\python312\\site-packages (from hyperopt) (3.3)\n",
      "Requirement already satisfied: future in c:\\users\\harsh\\appdata\\roaming\\python\\python312\\site-packages (from hyperopt) (1.0.0)\n",
      "Requirement already satisfied: tqdm in c:\\users\\harsh\\appdata\\roaming\\python\\python312\\site-packages (from hyperopt) (4.66.2)\n",
      "Requirement already satisfied: cloudpickle in c:\\python312\\lib\\site-packages (from hyperopt) (3.0.0)\n",
      "Requirement already satisfied: py4j in c:\\python312\\lib\\site-packages (from hyperopt) (0.10.9.7)\n",
      "Requirement already satisfied: colorama in c:\\users\\harsh\\appdata\\roaming\\python\\python312\\site-packages (from tqdm->hyperopt) (0.4.6)\n"
     ]
    }
   ],
   "source": [
    "!pip install xgboost hyperopt --user"
   ]
  },
  {
   "cell_type": "code",
   "execution_count": 20,
   "id": "f8202cdf",
   "metadata": {
    "scrolled": true
   },
   "outputs": [],
   "source": [
    "from hyperopt import fmin, tpe, hp, Trials, STATUS_OK\n"
   ]
  },
  {
   "cell_type": "code",
   "execution_count": 37,
   "id": "36beca41",
   "metadata": {},
   "outputs": [],
   "source": [
    "def objective(params):\n",
    "    # Convert parameters to the correct types\n",
    "    params['max_depth'] = int(params['max_depth'])\n",
    "    params['n_estimators'] = int(params['n_estimators'])\n",
    "    \n",
    "    # Create the XGBoost model\n",
    "    model = XGBRegressor(**params, objective='reg:squarederror')\n",
    "    \n",
    "    # Train the model\n",
    "    model.fit(X_train, y_train)\n",
    "    \n",
    "    # Make predictions\n",
    "    preds = model.predict(X_test)\n",
    "    y_pred = np.expm1(preds)\n",
    "    \n",
    "    # Calculate the mean squared error\n",
    "    mae = mean_absolute_error(np.expm1(y_test),y_pred)\n",
    "    \n",
    "    # Return the loss and the status\n",
    "    return {'loss': mae, 'status': STATUS_OK}\n"
   ]
  },
  {
   "cell_type": "code",
   "execution_count": 38,
   "id": "db316663",
   "metadata": {},
   "outputs": [],
   "source": [
    "space = {\n",
    "    'max_depth': hp.quniform('max_depth', 3, 10, 1),\n",
    "    'learning_rate': hp.uniform('learning_rate', 0.01, 0.2),\n",
    "    'n_estimators': hp.quniform('n_estimators', 50, 300, 1),\n",
    "    'gamma': hp.uniform('gamma', 0, 0.5),\n",
    "    'reg_alpha': hp.loguniform('reg_alpha', -3, 1),\n",
    "    'reg_lambda': hp.loguniform('reg_lambda', -3, 1),\n",
    "    'subsample': hp.uniform('subsample', 0.6, 1),\n",
    "    'colsample_bytree': hp.uniform('colsample_bytree', 0.6, 1)\n",
    "}"
   ]
  },
  {
   "cell_type": "code",
   "execution_count": 39,
   "id": "f7caff56",
   "metadata": {},
   "outputs": [
    {
     "name": "stdout",
     "output_type": "stream",
     "text": [
      "100%|██████████████████████████████████████████████| 100/100 [00:23<00:00,  4.18trial/s, best loss: 10007.931689453128]\n",
      "Best hyperparameters: {'colsample_bytree': 0.7031793148625255, 'gamma': 0.09157016069704034, 'learning_rate': 0.1670284960875044, 'max_depth': 6.0, 'n_estimators': 92.0, 'reg_alpha': 0.06608986272090762, 'reg_lambda': 0.3140668068210218, 'subsample': 0.6411710852008716}\n"
     ]
    }
   ],
   "source": [
    "trials = Trials()\n",
    "best = fmin(fn=objective,\n",
    "            space=space,\n",
    "            algo=tpe.suggest,\n",
    "            max_evals=100,\n",
    "            trials=trials)\n",
    "\n",
    "print(\"Best hyperparameters:\", best)"
   ]
  },
  {
   "cell_type": "code",
   "execution_count": 42,
   "id": "7ef717fd",
   "metadata": {},
   "outputs": [
    {
     "name": "stdout",
     "output_type": "stream",
     "text": [
      "Final MSE: 10007.931689453128\n",
      "Final R2: 0.8593794226821186\n"
     ]
    }
   ],
   "source": [
    "# Convert the best hyperparameters to the correct types\n",
    "best['max_depth'] = int(best['max_depth'])\n",
    "best['n_estimators'] = int(best['n_estimators'])\n",
    "\n",
    "# Create the XGBoost model with the best hyperparameters\n",
    "best_model = XGBRegressor(**best, objective='reg:squarederror')\n",
    "\n",
    "# Train the model\n",
    "best_model.fit(X_train, y_train)\n",
    "\n",
    "# Make predictions\n",
    "final_preds = best_model.predict(X_test)\n",
    "y_pred = np.expm1(final_preds)\n",
    "\n",
    "\n",
    "# Evaluate the model\n",
    "final_mse = mean_absolute_error(np.expm1(y_test), y_pred)\n",
    "final_r2 = r2_score(np.expm1(y_test), y_pred)\n",
    "print(\"Final MSE:\", final_mse)\n",
    "print(\"Final R2:\", final_r2)\n"
   ]
  },
  {
   "cell_type": "code",
   "execution_count": 66,
   "id": "071a939f",
   "metadata": {},
   "outputs": [
    {
     "name": "stdout",
     "output_type": "stream",
     "text": [
      "10440.301860591426\n",
      "0.882078002857849\n"
     ]
    }
   ],
   "source": [
    "# K-fold cross-validation\n",
    "model=LinearRegression()\n",
    "kfold = KFold(n_splits=10, shuffle=True, random_state=43)\n",
    "scores = cross_val_score(model, transformed_df, y_transformed, cv=5, scoring='r2')\n",
    "\n",
    "model.fit(X_train,y_train)\n",
    "\n",
    "y_pred = model.predict(X_test)\n",
    "\n",
    "y_pred = np.expm1(y_pred)\n",
    "\n",
    "mae=mean_absolute_error(np.expm1(y_test),y_pred)\n",
    "final_r2 = r2_score(np.expm1(y_test), y_pred)\n",
    "print(mae)\n",
    "print(final_r2)\n",
    "\n",
    "\n"
   ]
  },
  {
   "cell_type": "code",
   "execution_count": 67,
   "id": "312b537a",
   "metadata": {},
   "outputs": [],
   "source": [
    "def objective(params):\n",
    "    # Convert parameters to the correct types\n",
    "    params['n_estimators'] = int(params['n_estimators'])\n",
    "    params['max_depth'] = int(params['max_depth']) if params['max_depth'] is not None else None\n",
    "    params['min_samples_split'] = int(params['min_samples_split'])\n",
    "    params['min_samples_leaf'] = int(params['min_samples_leaf'])\n",
    "\n",
    "    # Create the Extra Trees model\n",
    "    model = ExtraTreesRegressor(**params, random_state=42)\n",
    "    \n",
    "    # Train the model\n",
    "    model.fit(X_train, y_train)\n",
    "    \n",
    "    # Make predictions\n",
    "    preds = model.predict(X_test)\n",
    "    preds=np.expm1(preds)\n",
    "    \n",
    "    # Calculate the mean squared error\n",
    "    mse = mean_absolute_error(np.expm1(y_test), preds)\n",
    "    \n",
    "    # Return the loss and the status\n",
    "    return {'loss': mse, 'status': STATUS_OK}\n"
   ]
  },
  {
   "cell_type": "code",
   "execution_count": 68,
   "id": "6e1108e0",
   "metadata": {},
   "outputs": [],
   "source": [
    "space = {\n",
    "    'n_estimators': hp.quniform('n_estimators', 50, 300, 1),\n",
    "    'max_features': hp.choice('max_features', [None, 'sqrt', 'log2']),\n",
    "    'max_depth': hp.quniform('max_depth', 5, 50, 1),\n",
    "    'min_samples_split': hp.quniform('min_samples_split', 2, 20, 1),\n",
    "    'min_samples_leaf': hp.quniform('min_samples_leaf', 1, 20, 1),\n",
    "    'bootstrap': hp.choice('bootstrap', [False, True])\n",
    "}\n"
   ]
  },
  {
   "cell_type": "code",
   "execution_count": 69,
   "id": "7f7ddf86",
   "metadata": {},
   "outputs": [
    {
     "name": "stdout",
     "output_type": "stream",
     "text": [
      "100%|███████████████████████████████████████████████| 100/100 [00:48<00:00,  2.08trial/s, best loss: 9960.488299031618]\n",
      "Best hyperparameters: {'bootstrap': 0, 'max_depth': 19.0, 'max_features': 0, 'min_samples_leaf': 2.0, 'min_samples_split': 4.0, 'n_estimators': 181.0}\n"
     ]
    }
   ],
   "source": [
    "trials = Trials()\n",
    "best = fmin(fn=objective,\n",
    "            space=space,\n",
    "            algo=tpe.suggest,\n",
    "            max_evals=100,\n",
    "            trials=trials)\n",
    "\n",
    "print(\"Best hyperparameters:\", best)\n"
   ]
  },
  {
   "cell_type": "code",
   "execution_count": 73,
   "id": "fbfe5f51",
   "metadata": {},
   "outputs": [
    {
     "name": "stdout",
     "output_type": "stream",
     "text": [
      "Final MAE: 9960.488299031618\n",
      "Final R²: 0.8549586765675898\n"
     ]
    }
   ],
   "source": [
    "# Convert the best hyperparameters to the correct types\n",
    "best['n_estimators'] = int(best['n_estimators'])\n",
    "best['max_depth'] = int(best['max_depth']) if best['max_depth'] is not None else None\n",
    "best['min_samples_split'] = int(best['min_samples_split'])\n",
    "best['min_samples_leaf'] = int(best['min_samples_leaf'])\n",
    "\n",
    "# Handle None type for max_features and bootstrap correctly\n",
    "if best['max_features'] is not None:\n",
    "    best['max_features'] = [None, 'sqrt', 'log2'][int(best['max_features'])]\n",
    "\n",
    "best['bootstrap'] = [False, True][int(best['bootstrap'])]\n",
    "\n",
    "# Create the Extra Trees model with the best hyperparameters\n",
    "best_model = ExtraTreesRegressor(**best, random_state=42)\n",
    "\n",
    "# Train the model\n",
    "best_model.fit(X_train, y_train)\n",
    "\n",
    "# Make predictions\n",
    "final_preds = best_model.predict(X_test)\n",
    "final_preds = np.expm1(final_preds)\n",
    "\n",
    "# Evaluate the model\n",
    "final_mae = mean_absolute_error(np.expm1(y_test), final_preds)\n",
    "final_r2 = r2_score(np.expm1(y_test), final_preds)\n",
    "\n",
    "print(\"Final MAE:\", final_mae)\n",
    "print(\"Final R²:\", final_r2)\n",
    "\n"
   ]
  },
  {
   "cell_type": "code",
   "execution_count": null,
   "id": "1b66f684",
   "metadata": {},
   "outputs": [],
   "source": []
  },
  {
   "cell_type": "code",
   "execution_count": 76,
   "id": "0808aa1c",
   "metadata": {},
   "outputs": [
    {
     "name": "stdout",
     "output_type": "stream",
     "text": [
      "Model saved to model.pkl\n"
     ]
    }
   ],
   "source": [
    "# Export the model using joblib\n",
    "joblib_file = \"model.pkl\"\n",
    "joblib.dump(best_model, joblib_file)\n",
    "\n",
    "print(f\"Model saved to {joblib_file}\")\n"
   ]
  },
  {
   "cell_type": "code",
   "execution_count": 95,
   "id": "9d19aab4",
   "metadata": {},
   "outputs": [
    {
     "name": "stdout",
     "output_type": "stream",
     "text": [
      "Loaded Model MSE: 9960.488299031618\n",
      "Loaded Model R²: 0.8549586765675898\n"
     ]
    }
   ],
   "source": [
    "# Load the model from the file\n",
    "loaded_model = joblib.load(joblib_file)\n",
    "\n",
    "# Use the loaded model to make predictions\n",
    "loaded_preds = loaded_model.predict(X_test)\n",
    "loaded_preds=np.expm1(loaded_preds)\n",
    "\n",
    "# Evaluate the loaded model\n",
    "loaded_mse = mean_absolute_error(np.expm1(y_test), loaded_preds)\n",
    "loaded_r2 = r2_score(np.expm1(y_test), loaded_preds)\n",
    "\n",
    "print(\"Loaded Model MSE:\", loaded_mse)\n",
    "print(\"Loaded Model R²:\", loaded_r2)"
   ]
  },
  {
   "cell_type": "code",
   "execution_count": null,
   "id": "340d301e",
   "metadata": {},
   "outputs": [],
   "source": []
  },
  {
   "cell_type": "code",
   "execution_count": null,
   "id": "8d27bb19",
   "metadata": {},
   "outputs": [],
   "source": []
  },
  {
   "cell_type": "code",
   "execution_count": null,
   "id": "3d510c02",
   "metadata": {},
   "outputs": [],
   "source": []
  }
 ],
 "metadata": {
  "kernelspec": {
   "display_name": "Python 3 (ipykernel)",
   "language": "python",
   "name": "python3"
  },
  "language_info": {
   "codemirror_mode": {
    "name": "ipython",
    "version": 3
   },
   "file_extension": ".py",
   "mimetype": "text/x-python",
   "name": "python",
   "nbconvert_exporter": "python",
   "pygments_lexer": "ipython3",
   "version": "3.11.5"
  }
 },
 "nbformat": 4,
 "nbformat_minor": 5
}
