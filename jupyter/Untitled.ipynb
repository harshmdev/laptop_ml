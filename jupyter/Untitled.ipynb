{
 "cells": [
  {
   "cell_type": "code",
   "execution_count": 1,
   "id": "942e9a3c",
   "metadata": {},
   "outputs": [
    {
     "name": "stderr",
     "output_type": "stream",
     "text": [
      "C:\\Users\\harsh\\anaconda3\\Lib\\site-packages\\pandas\\core\\arrays\\masked.py:60: UserWarning: Pandas requires version '1.3.6' or newer of 'bottleneck' (version '1.3.5' currently installed).\n",
      "  from pandas.core import (\n"
     ]
    }
   ],
   "source": [
    "import pandas as pd\n",
    "import numpy as np"
   ]
  },
  {
   "cell_type": "code",
   "execution_count": 2,
   "id": "58f87b68",
   "metadata": {},
   "outputs": [],
   "source": [
    "pd.set_option('display.max_rows', None)\n",
    "pd.set_option('display.max_columns', None)\n",
    "pd.set_option('display.max_colwidth', None)"
   ]
  },
  {
   "cell_type": "code",
   "execution_count": 19,
   "id": "d8166753",
   "metadata": {
    "scrolled": true
   },
   "outputs": [],
   "source": [
    "df=pd.read_csv(\"after_missing_value_imputation.csv\")\n",
    "df1=pd.read_csv(\"processed_dataset.csv\")\n",
    "df2=pd.read_csv(\"after_feature_selection.csv\")\n",
    "df3=pd.read_csv(\"EDA/missing_value_imputation.csv\")\n",
    "df4=pd.read_csv(\"EDA/feature_selection\")\n"
   ]
  },
  {
   "cell_type": "code",
   "execution_count": 23,
   "id": "b08a4c3f",
   "metadata": {
    "collapsed": true
   },
   "outputs": [
    {
     "data": {
      "text/plain": [
       "Index(['brand', 'price', 'thickness', 'weight', 'screen_size', 'ppi',\n",
       "       'threads', 'ram', 'antiglare', 'touch_screen', 'cores',\n",
       "       'battery_capacity', 'battery_cell', 'hdmi', 'ethernet',\n",
       "       'multi_card_reader', 'thunderbolt', 'display_port', 'vga', 'backlit',\n",
       "       'fingerprint_sensor', 'usb2', 'usb3', 'typec', 'processor_gen',\n",
       "       'processor_brand', 'processor_model', 'graphics_brand',\n",
       "       'graphics_capacity', 'graphics_model', 'everyday_use', 'business',\n",
       "       'performance', 'gaming', 'hdd', 'ssd', 'popularity', 'quality_type',\n",
       "       'ppi_type', 'thickness_num', 'weight_num'],\n",
       "      dtype='object')"
      ]
     },
     "execution_count": 23,
     "metadata": {},
     "output_type": "execute_result"
    }
   ],
   "source": [
    "Index(['brand', 'price', 'thickness', 'screen_size', 'ppi', 'threads', 'ram',\n",
    "       'touch_screen', 'cores', 'battery_capacity', 'battery_cell',\n",
    "       'thunderbolt', 'backlit', 'typec', 'processor_gen', 'processor_brand',\n",
    "       'processor_model', 'graphics_brand', 'graphics_capacity',\n",
    "       'graphics_model', 'business', 'gaming', 'ssd', 'popularity']"
   ]
  },
  {
   "cell_type": "code",
   "execution_count": 24,
   "id": "25002cbc",
   "metadata": {
    "scrolled": true
   },
   "outputs": [
    {
     "data": {
      "text/plain": [
       "Index(['brand', 'price', 'thickness', 'screen_size', 'ppi', 'threads', 'ram',\n",
       "       'touch_screen', 'cores', 'battery_capacity', 'battery_cell',\n",
       "       'thunderbolt', 'backlit', 'typec', 'processor_gen', 'processor_brand',\n",
       "       'processor_model', 'graphics_brand', 'graphics_capacity',\n",
       "       'graphics_model', 'business', 'gaming', 'ssd', 'popularity',\n",
       "       'quality_type', 'ppi_type'],\n",
       "      dtype='object')"
      ]
     },
     "execution_count": 24,
     "metadata": {},
     "output_type": "execute_result"
    }
   ],
   "source": [
    "df2.columns"
   ]
  },
  {
   "cell_type": "code",
   "execution_count": 18,
   "id": "05b7c4a5",
   "metadata": {},
   "outputs": [
    {
     "data": {
      "text/html": [
       "<div>\n",
       "<style scoped>\n",
       "    .dataframe tbody tr th:only-of-type {\n",
       "        vertical-align: middle;\n",
       "    }\n",
       "\n",
       "    .dataframe tbody tr th {\n",
       "        vertical-align: top;\n",
       "    }\n",
       "\n",
       "    .dataframe thead th {\n",
       "        text-align: right;\n",
       "    }\n",
       "</style>\n",
       "<table border=\"1\" class=\"dataframe\">\n",
       "  <thead>\n",
       "    <tr style=\"text-align: right;\">\n",
       "      <th></th>\n",
       "      <th>brand</th>\n",
       "      <th>price</th>\n",
       "      <th>thickness</th>\n",
       "      <th>screen_size</th>\n",
       "      <th>ppi</th>\n",
       "      <th>threads</th>\n",
       "      <th>ram</th>\n",
       "      <th>touch_screen</th>\n",
       "      <th>cores</th>\n",
       "      <th>battery_capacity</th>\n",
       "      <th>battery_cell</th>\n",
       "      <th>thunderbolt</th>\n",
       "      <th>backlit</th>\n",
       "      <th>typec</th>\n",
       "      <th>processor_gen</th>\n",
       "      <th>processor_brand</th>\n",
       "      <th>processor_model</th>\n",
       "      <th>graphics_brand</th>\n",
       "      <th>graphics_capacity</th>\n",
       "      <th>graphics_model</th>\n",
       "      <th>business</th>\n",
       "      <th>gaming</th>\n",
       "      <th>ssd</th>\n",
       "      <th>popularity</th>\n",
       "      <th>quality_type</th>\n",
       "      <th>ppi_type</th>\n",
       "    </tr>\n",
       "  </thead>\n",
       "  <tbody>\n",
       "    <tr>\n",
       "      <th>200</th>\n",
       "      <td>Dell</td>\n",
       "      <td>89990.0</td>\n",
       "      <td>slim</td>\n",
       "      <td>16.0</td>\n",
       "      <td>138.0</td>\n",
       "      <td>12.0</td>\n",
       "      <td>16.0</td>\n",
       "      <td>0.0</td>\n",
       "      <td>10.0</td>\n",
       "      <td>54.0</td>\n",
       "      <td>4.0</td>\n",
       "      <td>0.0</td>\n",
       "      <td>1.0</td>\n",
       "      <td>1.0</td>\n",
       "      <td>13.0</td>\n",
       "      <td>intel</td>\n",
       "      <td>i7</td>\n",
       "      <td>NaN</td>\n",
       "      <td>12.0</td>\n",
       "      <td>Integrated</td>\n",
       "      <td>0.0</td>\n",
       "      <td>0.0</td>\n",
       "      <td>512.0</td>\n",
       "      <td>regular</td>\n",
       "      <td>high</td>\n",
       "      <td>low</td>\n",
       "    </tr>\n",
       "  </tbody>\n",
       "</table>\n",
       "</div>"
      ],
      "text/plain": [
       "    brand    price thickness  screen_size    ppi  threads   ram  touch_screen  \\\n",
       "200  Dell  89990.0      slim         16.0  138.0     12.0  16.0           0.0   \n",
       "\n",
       "     cores  battery_capacity  battery_cell  thunderbolt  backlit  typec  \\\n",
       "200   10.0              54.0           4.0          0.0      1.0    1.0   \n",
       "\n",
       "     processor_gen processor_brand processor_model graphics_brand  \\\n",
       "200           13.0           intel              i7            NaN   \n",
       "\n",
       "     graphics_capacity graphics_model  business  gaming    ssd popularity  \\\n",
       "200               12.0     Integrated       0.0     0.0  512.0    regular   \n",
       "\n",
       "    quality_type ppi_type  \n",
       "200         high      low  "
      ]
     },
     "execution_count": 18,
     "metadata": {},
     "output_type": "execute_result"
    }
   ],
   "source": [
    "df2[(df2[\"graphics_brand\"].isnull())]"
   ]
  },
  {
   "cell_type": "code",
   "execution_count": 41,
   "id": "e730b610",
   "metadata": {
    "scrolled": true
   },
   "outputs": [
    {
     "data": {
      "text/plain": [
       "Index(['brand', 'price', 'thickness', 'screen_size', 'ppi', 'threads', 'ram',\n",
       "       'touch_screen', 'cores', 'battery_capacity', 'battery_cell',\n",
       "       'thunderbolt', 'backlit', 'typec', 'processor_gen', 'processor_model',\n",
       "       'graphics_brand', 'graphics_capacity', 'graphics_model', 'business',\n",
       "       'gaming', 'ssd'],\n",
       "      dtype='object')"
      ]
     },
     "execution_count": 41,
     "metadata": {},
     "output_type": "execute_result"
    }
   ],
   "source": [
    "df2.columns"
   ]
  },
  {
   "cell_type": "code",
   "execution_count": 33,
   "id": "ee7a1c05",
   "metadata": {
    "collapsed": true
   },
   "outputs": [
    {
     "name": "stdout",
     "output_type": "stream",
     "text": [
      "<class 'pandas.core.frame.DataFrame'>\n",
      "RangeIndex: 798 entries, 0 to 797\n",
      "Data columns (total 41 columns):\n",
      " #   Column              Non-Null Count  Dtype  \n",
      "---  ------              --------------  -----  \n",
      " 0   brand               798 non-null    object \n",
      " 1   price               798 non-null    int64  \n",
      " 2   thickness           798 non-null    object \n",
      " 3   weight              798 non-null    object \n",
      " 4   screen_size         798 non-null    int64  \n",
      " 5   ppi                 798 non-null    int64  \n",
      " 6   threads             798 non-null    float64\n",
      " 7   ram                 798 non-null    float64\n",
      " 8   antiglare           798 non-null    int64  \n",
      " 9   touch_screen        798 non-null    int64  \n",
      " 10  cores               798 non-null    float64\n",
      " 11  battery_capacity    798 non-null    float64\n",
      " 12  battery_cell        798 non-null    float64\n",
      " 13  hdmi                798 non-null    int64  \n",
      " 14  ethernet            798 non-null    int64  \n",
      " 15  multi_card_reader   798 non-null    int64  \n",
      " 16  thunderbolt         798 non-null    int64  \n",
      " 17  display_port        798 non-null    int64  \n",
      " 18  vga                 798 non-null    int64  \n",
      " 19  backlit             798 non-null    int64  \n",
      " 20  fingerprint_sensor  798 non-null    int64  \n",
      " 21  usb2                798 non-null    float64\n",
      " 22  usb3                798 non-null    float64\n",
      " 23  typec               798 non-null    float64\n",
      " 24  processor_gen       798 non-null    float64\n",
      " 25  processor_brand     798 non-null    object \n",
      " 26  processor_model     798 non-null    object \n",
      " 27  graphics_brand      798 non-null    object \n",
      " 28  graphics_capacity   798 non-null    float64\n",
      " 29  graphics_model      798 non-null    object \n",
      " 30  everyday_use        798 non-null    int64  \n",
      " 31  business            798 non-null    int64  \n",
      " 32  performance         798 non-null    int64  \n",
      " 33  gaming              798 non-null    int64  \n",
      " 34  hdd                 19 non-null     float64\n",
      " 35  ssd                 798 non-null    float64\n",
      " 36  popularity          798 non-null    object \n",
      " 37  quality_type        798 non-null    object \n",
      " 38  ppi_type            798 non-null    object \n",
      " 39  thickness_num       595 non-null    float64\n",
      " 40  weight_num          731 non-null    float64\n",
      "dtypes: float64(14), int64(17), object(10)\n",
      "memory usage: 255.7+ KB\n"
     ]
    }
   ],
   "source": [
    "df3.info()"
   ]
  },
  {
   "cell_type": "code",
   "execution_count": 11,
   "id": "49d20143",
   "metadata": {},
   "outputs": [
    {
     "data": {
      "text/plain": [
       "brand                   0\n",
       "price                   0\n",
       "thickness               0\n",
       "weight                  0\n",
       "screen_size             0\n",
       "ppi                     0\n",
       "threads                 0\n",
       "ram                     0\n",
       "antiglare               0\n",
       "touch_screen            0\n",
       "cores                   1\n",
       "battery_capacity       58\n",
       "battery_cell          191\n",
       "hdmi                    0\n",
       "ethernet                0\n",
       "multi_card_reader       0\n",
       "thunderbolt             0\n",
       "display_port            0\n",
       "vga                     0\n",
       "backlit                 0\n",
       "fingerprint_sensor      0\n",
       "usb2                  723\n",
       "usb3                   63\n",
       "typec                  60\n",
       "processor_gen           0\n",
       "processor_brand         0\n",
       "processor_model         0\n",
       "graphics_brand          1\n",
       "graphics_capacity       0\n",
       "graphics_model          0\n",
       "everyday_use            0\n",
       "business                0\n",
       "performance             0\n",
       "gaming                  0\n",
       "hdd                   999\n",
       "ssd                     0\n",
       "dtype: int64"
      ]
     },
     "execution_count": 11,
     "metadata": {},
     "output_type": "execute_result"
    }
   ],
   "source": [
    "df.isnull().sum()"
   ]
  },
  {
   "cell_type": "code",
   "execution_count": 9,
   "id": "119b8e7b",
   "metadata": {
    "scrolled": false
   },
   "outputs": [
    {
     "data": {
      "text/plain": [
       "brand                  0\n",
       "price                  0\n",
       "thickness              0\n",
       "screen_size            0\n",
       "ppi                    0\n",
       "threads                0\n",
       "ram                    0\n",
       "touch_screen           0\n",
       "cores                  1\n",
       "battery_capacity      58\n",
       "battery_cell         191\n",
       "thunderbolt            0\n",
       "backlit                0\n",
       "typec                 60\n",
       "processor_gen          0\n",
       "processor_model        0\n",
       "graphics_brand         1\n",
       "graphics_capacity      0\n",
       "graphics_model         0\n",
       "business               0\n",
       "gaming                 0\n",
       "ssd                    0\n",
       "dtype: int64"
      ]
     },
     "execution_count": 9,
     "metadata": {},
     "output_type": "execute_result"
    }
   ],
   "source": [
    "df2.isnull().sum()"
   ]
  },
  {
   "cell_type": "code",
   "execution_count": 10,
   "id": "7197f803",
   "metadata": {},
   "outputs": [
    {
     "ename": "KeyError",
     "evalue": "'Weight'",
     "output_type": "error",
     "traceback": [
      "\u001b[1;31m---------------------------------------------------------------------------\u001b[0m",
      "\u001b[1;31mKeyError\u001b[0m                                  Traceback (most recent call last)",
      "File \u001b[1;32m~\\anaconda3\\Lib\\site-packages\\pandas\\core\\indexes\\base.py:3805\u001b[0m, in \u001b[0;36mIndex.get_loc\u001b[1;34m(self, key)\u001b[0m\n\u001b[0;32m   3804\u001b[0m \u001b[38;5;28;01mtry\u001b[39;00m:\n\u001b[1;32m-> 3805\u001b[0m     \u001b[38;5;28;01mreturn\u001b[39;00m \u001b[38;5;28mself\u001b[39m\u001b[38;5;241m.\u001b[39m_engine\u001b[38;5;241m.\u001b[39mget_loc(casted_key)\n\u001b[0;32m   3806\u001b[0m \u001b[38;5;28;01mexcept\u001b[39;00m \u001b[38;5;167;01mKeyError\u001b[39;00m \u001b[38;5;28;01mas\u001b[39;00m err:\n",
      "File \u001b[1;32mindex.pyx:167\u001b[0m, in \u001b[0;36mpandas._libs.index.IndexEngine.get_loc\u001b[1;34m()\u001b[0m\n",
      "File \u001b[1;32mindex.pyx:196\u001b[0m, in \u001b[0;36mpandas._libs.index.IndexEngine.get_loc\u001b[1;34m()\u001b[0m\n",
      "File \u001b[1;32mpandas\\\\_libs\\\\hashtable_class_helper.pxi:7081\u001b[0m, in \u001b[0;36mpandas._libs.hashtable.PyObjectHashTable.get_item\u001b[1;34m()\u001b[0m\n",
      "File \u001b[1;32mpandas\\\\_libs\\\\hashtable_class_helper.pxi:7089\u001b[0m, in \u001b[0;36mpandas._libs.hashtable.PyObjectHashTable.get_item\u001b[1;34m()\u001b[0m\n",
      "\u001b[1;31mKeyError\u001b[0m: 'Weight'",
      "\nThe above exception was the direct cause of the following exception:\n",
      "\u001b[1;31mKeyError\u001b[0m                                  Traceback (most recent call last)",
      "Cell \u001b[1;32mIn[10], line 1\u001b[0m\n\u001b[1;32m----> 1\u001b[0m df[\u001b[38;5;124m'\u001b[39m\u001b[38;5;124mWeight\u001b[39m\u001b[38;5;124m'\u001b[39m] \u001b[38;5;241m=\u001b[39m df[\u001b[38;5;124m'\u001b[39m\u001b[38;5;124mWeight\u001b[39m\u001b[38;5;124m'\u001b[39m]\u001b[38;5;241m.\u001b[39mstr\u001b[38;5;241m.\u001b[39mreplace(\u001b[38;5;124m'\u001b[39m\u001b[38;5;124mkg\u001b[39m\u001b[38;5;124m'\u001b[39m, \u001b[38;5;124m'\u001b[39m\u001b[38;5;124m'\u001b[39m)\u001b[38;5;241m.\u001b[39mstr\u001b[38;5;241m.\u001b[39mreplace(\u001b[38;5;124m'\u001b[39m\u001b[38;5;124mnull\u001b[39m\u001b[38;5;124m'\u001b[39m, \u001b[38;5;124m'\u001b[39m\u001b[38;5;124m0\u001b[39m\u001b[38;5;124m'\u001b[39m)\u001b[38;5;241m.\u001b[39mastype(\u001b[38;5;28mfloat\u001b[39m)\n",
      "File \u001b[1;32m~\\anaconda3\\Lib\\site-packages\\pandas\\core\\frame.py:4102\u001b[0m, in \u001b[0;36mDataFrame.__getitem__\u001b[1;34m(self, key)\u001b[0m\n\u001b[0;32m   4100\u001b[0m \u001b[38;5;28;01mif\u001b[39;00m \u001b[38;5;28mself\u001b[39m\u001b[38;5;241m.\u001b[39mcolumns\u001b[38;5;241m.\u001b[39mnlevels \u001b[38;5;241m>\u001b[39m \u001b[38;5;241m1\u001b[39m:\n\u001b[0;32m   4101\u001b[0m     \u001b[38;5;28;01mreturn\u001b[39;00m \u001b[38;5;28mself\u001b[39m\u001b[38;5;241m.\u001b[39m_getitem_multilevel(key)\n\u001b[1;32m-> 4102\u001b[0m indexer \u001b[38;5;241m=\u001b[39m \u001b[38;5;28mself\u001b[39m\u001b[38;5;241m.\u001b[39mcolumns\u001b[38;5;241m.\u001b[39mget_loc(key)\n\u001b[0;32m   4103\u001b[0m \u001b[38;5;28;01mif\u001b[39;00m is_integer(indexer):\n\u001b[0;32m   4104\u001b[0m     indexer \u001b[38;5;241m=\u001b[39m [indexer]\n",
      "File \u001b[1;32m~\\anaconda3\\Lib\\site-packages\\pandas\\core\\indexes\\base.py:3812\u001b[0m, in \u001b[0;36mIndex.get_loc\u001b[1;34m(self, key)\u001b[0m\n\u001b[0;32m   3807\u001b[0m     \u001b[38;5;28;01mif\u001b[39;00m \u001b[38;5;28misinstance\u001b[39m(casted_key, \u001b[38;5;28mslice\u001b[39m) \u001b[38;5;129;01mor\u001b[39;00m (\n\u001b[0;32m   3808\u001b[0m         \u001b[38;5;28misinstance\u001b[39m(casted_key, abc\u001b[38;5;241m.\u001b[39mIterable)\n\u001b[0;32m   3809\u001b[0m         \u001b[38;5;129;01mand\u001b[39;00m \u001b[38;5;28many\u001b[39m(\u001b[38;5;28misinstance\u001b[39m(x, \u001b[38;5;28mslice\u001b[39m) \u001b[38;5;28;01mfor\u001b[39;00m x \u001b[38;5;129;01min\u001b[39;00m casted_key)\n\u001b[0;32m   3810\u001b[0m     ):\n\u001b[0;32m   3811\u001b[0m         \u001b[38;5;28;01mraise\u001b[39;00m InvalidIndexError(key)\n\u001b[1;32m-> 3812\u001b[0m     \u001b[38;5;28;01mraise\u001b[39;00m \u001b[38;5;167;01mKeyError\u001b[39;00m(key) \u001b[38;5;28;01mfrom\u001b[39;00m \u001b[38;5;21;01merr\u001b[39;00m\n\u001b[0;32m   3813\u001b[0m \u001b[38;5;28;01mexcept\u001b[39;00m \u001b[38;5;167;01mTypeError\u001b[39;00m:\n\u001b[0;32m   3814\u001b[0m     \u001b[38;5;66;03m# If we have a listlike key, _check_indexing_error will raise\u001b[39;00m\n\u001b[0;32m   3815\u001b[0m     \u001b[38;5;66;03m#  InvalidIndexError. Otherwise we fall through and re-raise\u001b[39;00m\n\u001b[0;32m   3816\u001b[0m     \u001b[38;5;66;03m#  the TypeError.\u001b[39;00m\n\u001b[0;32m   3817\u001b[0m     \u001b[38;5;28mself\u001b[39m\u001b[38;5;241m.\u001b[39m_check_indexing_error(key)\n",
      "\u001b[1;31mKeyError\u001b[0m: 'Weight'"
     ]
    }
   ],
   "source": [
    "df['Weight'] = df['Weight'].str.replace('kg', '').str.replace('null', '0').astype(float)\n"
   ]
  },
  {
   "cell_type": "code",
   "execution_count": 40,
   "id": "2aa1b865",
   "metadata": {},
   "outputs": [
    {
     "data": {
      "text/plain": [
       "Weight\n",
       "2.2kg     111\n",
       "2.1kg      57\n",
       "2.4kg      43\n",
       "2.3kg      41\n",
       "2.5kg      37\n",
       "         ... \n",
       "1.41kg      1\n",
       "3.6kg       1\n",
       "4.7kg       1\n",
       "4.33kg      1\n",
       "4.0kg       1\n",
       "Name: count, Length: 189, dtype: int64"
      ]
     },
     "execution_count": 40,
     "metadata": {},
     "output_type": "execute_result"
    }
   ],
   "source": [
    "df[\"Weight\"].value_counts()"
   ]
  },
  {
   "cell_type": "code",
   "execution_count": 42,
   "id": "db87329d",
   "metadata": {},
   "outputs": [
    {
     "data": {
      "text/html": [
       "<div>\n",
       "<style scoped>\n",
       "    .dataframe tbody tr th:only-of-type {\n",
       "        vertical-align: middle;\n",
       "    }\n",
       "\n",
       "    .dataframe tbody tr th {\n",
       "        vertical-align: top;\n",
       "    }\n",
       "\n",
       "    .dataframe thead th {\n",
       "        text-align: right;\n",
       "    }\n",
       "</style>\n",
       "<table border=\"1\" class=\"dataframe\">\n",
       "  <thead>\n",
       "    <tr style=\"text-align: right;\">\n",
       "      <th></th>\n",
       "      <th>Unnamed: 0</th>\n",
       "      <th>Company</th>\n",
       "      <th>TypeName</th>\n",
       "      <th>Inches</th>\n",
       "      <th>ScreenResolution</th>\n",
       "      <th>Cpu</th>\n",
       "      <th>Ram</th>\n",
       "      <th>Memory</th>\n",
       "      <th>Gpu</th>\n",
       "      <th>OpSys</th>\n",
       "      <th>Weight</th>\n",
       "      <th>Price</th>\n",
       "    </tr>\n",
       "  </thead>\n",
       "  <tbody>\n",
       "    <tr>\n",
       "      <th>208</th>\n",
       "      <td>208.0</td>\n",
       "      <td>Dell</td>\n",
       "      <td>Ultrabook</td>\n",
       "      <td>13.3</td>\n",
       "      <td>Full HD 1920x1080</td>\n",
       "      <td>Intel Core i7 8550U 1.8GHz</td>\n",
       "      <td>8GB</td>\n",
       "      <td>256GB SSD</td>\n",
       "      <td>Intel UHD Graphics 620</td>\n",
       "      <td>Windows 10</td>\n",
       "      <td>?</td>\n",
       "      <td>77202.72</td>\n",
       "    </tr>\n",
       "  </tbody>\n",
       "</table>\n",
       "</div>"
      ],
      "text/plain": [
       "     Unnamed: 0 Company   TypeName Inches   ScreenResolution  \\\n",
       "208       208.0    Dell  Ultrabook   13.3  Full HD 1920x1080   \n",
       "\n",
       "                            Cpu  Ram     Memory                     Gpu  \\\n",
       "208  Intel Core i7 8550U 1.8GHz  8GB  256GB SSD  Intel UHD Graphics 620   \n",
       "\n",
       "          OpSys Weight     Price  \n",
       "208  Windows 10      ?  77202.72  "
      ]
     },
     "execution_count": 42,
     "metadata": {},
     "output_type": "execute_result"
    }
   ],
   "source": [
    "df[df[\"Weight\"]==\"?\"]"
   ]
  },
  {
   "cell_type": "code",
   "execution_count": null,
   "id": "ba9875af",
   "metadata": {},
   "outputs": [],
   "source": []
  }
 ],
 "metadata": {
  "kernelspec": {
   "display_name": "Python 3 (ipykernel)",
   "language": "python",
   "name": "python3"
  },
  "language_info": {
   "codemirror_mode": {
    "name": "ipython",
    "version": 3
   },
   "file_extension": ".py",
   "mimetype": "text/x-python",
   "name": "python",
   "nbconvert_exporter": "python",
   "pygments_lexer": "ipython3",
   "version": "3.11.5"
  }
 },
 "nbformat": 4,
 "nbformat_minor": 5
}
